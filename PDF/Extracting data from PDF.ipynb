{
 "cells": [
  {
   "cell_type": "code",
   "execution_count": 1,
   "id": "0ed7faaa",
   "metadata": {},
   "outputs": [],
   "source": [
    "import veryfi\n",
    "import camelot\n",
    "import pandas as pd\n",
    "import pprint"
   ]
  },
  {
   "cell_type": "code",
   "execution_count": 2,
   "id": "27469514",
   "metadata": {},
   "outputs": [],
   "source": [
    "from PyPDF2 import PdfFileReader, PdfFileWriter\n",
    "\n",
    "pdf_file_path = 'doc.pdf'\n",
    "file_base_name = pdf_file_path.replace('.pdf', '')\n",
    "\n",
    "pdf = PdfFileReader(pdf_file_path)\n",
    "\n",
    "pages = [0] \n",
    "pdfWriter = PdfFileWriter()\n",
    "\n",
    "for page_num in pages:\n",
    "    pdfWriter.addPage(pdf.getPage(page_num))\n",
    "\n",
    "with open('{0}_subset.pdf'.format(file_base_name), 'wb') as f:\n",
    "    pdfWriter.write(f)\n",
    "    f.close()"
   ]
  },
  {
   "cell_type": "code",
   "execution_count": 4,
   "id": "ae92a55a",
   "metadata": {},
   "outputs": [],
   "source": [
    "client_id=\"vrfaycC0DtKLox02VEM32rvFxs79ikExMsMh4d4\"\n",
    "client_secret=\"lCLkVdsIgGRhcyWLdv4hCzvrdASepRO2WIVCMz4BhaoUzKvkRef5SniDYZXWXXlCGaJa2JtkhWH7VpJta6xHXYHJGDVbjrRkuOkCBWRc8td31Vh2udDkkOVwu4wpcLyk\"\n",
    "api_key=\"c7ffb7d1fa6c4e8e953f3bbf0f0befa3\"\n",
    "username=\"srishtisingh089\""
   ]
  },
  {
   "cell_type": "code",
   "execution_count": 5,
   "id": "ae78e7e6",
   "metadata": {},
   "outputs": [],
   "source": [
    "client=veryfi.Client(client_id,client_secret,username,api_key)"
   ]
  },
  {
   "cell_type": "code",
   "execution_count": 6,
   "id": "4f308437",
   "metadata": {},
   "outputs": [],
   "source": [
    "json_result = client.process_document(\"doc_subset.pdf\",categories=[\"Insurance\"])"
   ]
  },
  {
   "cell_type": "code",
   "execution_count": 7,
   "id": "71317f72",
   "metadata": {},
   "outputs": [
    {
     "name": "stdout",
     "output_type": "stream",
     "text": [
      "{'abn_number': '',\n",
      " 'account_number': '',\n",
      " 'bill_to_address': 'BORIVALI W',\n",
      " 'bill_to_name': 'KARUNA HOSPITALS',\n",
      " 'bill_to_vat_number': '',\n",
      " 'card_number': '0401',\n",
      " 'cashback': 0.0,\n",
      " 'category': '',\n",
      " 'created': '2021-07-06 17:28:53',\n",
      " 'currency_code': 'INR',\n",
      " 'date': '2020-09-01 03:48:00',\n",
      " 'delivery_date': '01/09/2020',\n",
      " 'discount': 0.0,\n",
      " 'document_reference_number': '166870662100000401',\n",
      " 'document_title': '',\n",
      " 'document_type': '',\n",
      " 'due_date': '',\n",
      " 'duplicate_of': 37531235,\n",
      " 'external_id': '',\n",
      " 'id': 37548756,\n",
      " 'img_file_name': '380128d9-e18c-407e-858a-2db80bb13d8f.pdf',\n",
      " 'img_thumbnail_url': 'https://scdn.veryfi.com/receipts/380128d9-e18c-407e-858a-2db80bb13d8f_t.jpg?Expires=1625593433&Signature=aTk92zcI~Fozg8WuS2jDRh-zuBmNKGUmLFIk3b3s6sfBzO9wQoslMhD94Zmvnijhv97-ehkCVX5DyJykanHnWv9ql8TlZewIvdEJwc96JwpuC6fNW29KbS3OrAscWzNwRAE1h1KfOcE~zLzAs812FKHJktS48d4NicJgfjwQKf-AmcbNesUmXpSJakjK85IBasbd5OT5wqQ5kVqQrzczYjcfbSI0HlZgzYxsR~Vqub4M3XtIqMCUR7ZUvMt-Fyw2VyfbdiMAvGlYMDPeIg6fTLM~mQqTRI4hXj1OHpZosONwDsjVOz26QqBok7GGFGVPEO9LTo-UE0iRInDtdOVFpQ__&Key-Pair-Id=APKAJCILBXEJFZF4DCHQ',\n",
      " 'img_url': 'https://scdn.veryfi.com/receipts/380128d9-e18c-407e-858a-2db80bb13d8f.pdf?Expires=1625593433&Signature=f8DiRYy42YnGo0IRk7akhZgwE0dg8N5ysGRWTVUtkzv8rF~BlcIod0jx4STpdhnaCoL~ed6o1lYqYYffw3v-UGlr8yTokk54MXgSq7k1OxFM1n2-86gNqLN~zakwxje7wDU59YHlUuweaf6Wez4eY6IbuivM1x5cvQJk8wITCBiRcWTMGU4yZd9ilLkrrkJD8ADoIdDcHLgPcyuBm-mBOq-ESX-jcnHZrlsdSJUPzIcIdvORhrjMI4nD9xAm6rUQssF6D39Vjft6kl-qdnOeuYuBBHppOcNvouWc3q2XM230t-Bc2WP-adkOsTGroiPcCfaznc5~nvOC6yyB66jbsQ__&Key-Pair-Id=APKAJCILBXEJFZF4DCHQ',\n",
      " 'insurance': '',\n",
      " 'invoice_number': '2021/171100/0277003',\n",
      " 'is_duplicate': 1,\n",
      " 'line_items': [{'date': '',\n",
      "                 'description': 'CHOLECYSITIS\\n'\n",
      "                                'Proposed line of treatment : Medical',\n",
      "                 'discount': 0.0,\n",
      "                 'id': 69467106,\n",
      "                 'order': 0,\n",
      "                 'price': 0.0,\n",
      "                 'quantity': 1.0,\n",
      "                 'reference': '',\n",
      "                 'section': '',\n",
      "                 'sku': '',\n",
      "                 'tax': 0.0,\n",
      "                 'tax_rate': 0.0,\n",
      "                 'total': 0.0,\n",
      "                 'type': 'product',\n",
      "                 'unit_of_measure': ''},\n",
      "                {'date': '2020-09-01',\n",
      "                 'description': 'Approved (Pre Auth)',\n",
      "                 'discount': 0.0,\n",
      "                 'id': 69467107,\n",
      "                 'order': 1,\n",
      "                 'price': 0.0,\n",
      "                 'quantity': 1.0,\n",
      "                 'reference': '',\n",
      "                 'section': '',\n",
      "                 'sku': '',\n",
      "                 'tax': 0.0,\n",
      "                 'tax_rate': 0.0,\n",
      "                 'total': 0.0,\n",
      "                 'type': 'food',\n",
      "                 'unit_of_measure': ''},\n",
      "                {'date': '2020-09-01',\n",
      "                 'description': 'Approved (Enhancement)\\nIRDA Regn.No.129',\n",
      "                 'discount': 0.0,\n",
      "                 'id': 69467108,\n",
      "                 'order': 2,\n",
      "                 'price': 0.0,\n",
      "                 'quantity': 1.0,\n",
      "                 'reference': '',\n",
      "                 'section': '',\n",
      "                 'sku': '',\n",
      "                 'tax': 0.0,\n",
      "                 'tax_rate': 0.0,\n",
      "                 'total': 0.0,\n",
      "                 'type': 'product',\n",
      "                 'unit_of_measure': ''}],\n",
      " 'notes': '',\n",
      " 'ocr_text': 'STAR HEALTH AND ALLIED INSURANCE CO. LTD.,\\n'\n",
      "             'STAR Health\\n'\n",
      "             'SRI BALAJI COMPLEX,15,WHITES ROAD,CHENNAI 600014\\n'\n",
      "             'Personal & Caring Insurance\\n'\n",
      "             'The Health Insurance Specialist\\n'\n",
      "             '\\n'\n",
      "             'Cashless Authorization Letter\\n'\n",
      "             'Claim Number : CLI/2021/171100/0277003\\t\\t\\tDATE : 01/09/2020\\n'\n",
      "             '(Please quote this number for all further correspondence)\\n'\n",
      "             'Authorization is valid for admission up to 07/09/2020\\n'\n",
      "             'KARUNA HOSPITALS\\tName of Insurance Company: STAR HEALTH AND '\n",
      "             'ALLIED INSURANCE\\n'\n",
      "             'Name of TPA\\t: Not Applicable\\n'\n",
      "             'JEEVAN BIMA NAGAR\\tProposer Name\\tGMONEY PRIVATE LIMITED\\n'\n",
      "             'BORIVALI W\\n'\n",
      "             'MUMBAI - 400103\\tPatient’s Member\\t: Krupali Doshi\\n'\n",
      "             'Maharashtra\\n'\n",
      "             'Rohini Id :\\t\\tID/TPA/Insurer Id of the\\t: 166870662100000401\\n'\n",
      "             'Patient\\n'\n",
      "             'Relation with Proposer : FATHER\\n'\n",
      "             'Dear Sir/Madam,\\n'\n",
      "             'This has reference to the pre-authorization request submitted on '\n",
      "             '01/09/2020. We hereby authorize cashless facility\\n'\n",
      "             'as per details mentioned below:\\n'\n",
      "             '\\tAge : 70YEARS\\tGender : Male\\n'\n",
      "             'Patient Name : HARSHAD DOSHI\\n'\n",
      "             '\\tExpected Date of Admission : 29/08/2020\\n'\n",
      "             'Policy Number : P/171100/01/2021/006902\\tExpected Date of '\n",
      "             'Discharge : 01/09/2020\\n'\n",
      "             'Policy Period : 29-JUL-2020 - 28-JUL-2021\\tEstimated length of '\n",
      "             'stay\\n'\n",
      "             'Room\\t: SHARING/SEMI PRIVATE ROOM\\n'\n",
      "             'Category\\tA/C\\n'\n",
      "             'Eligible Room\\n'\n",
      "             'Category as per T&C\\n'\n",
      "             'of Policy Contract:\\n'\n",
      "             'Provisional\\tACUTE CHOLECYSITIS\\tProposed line of treatment : '\n",
      "             'Medical\\n'\n",
      "             'Diagnosis :\\n'\n",
      "             '\\n'\n",
      "             'Authorization Details:\\n'\n",
      "             '\\n'\n",
      "             'Date & Time\\tReference number\\tAmount\\tStatus\\n'\n",
      "             '\\n'\n",
      "             '01/09/2020 03:48\\t\\tCLMG/2021/171100/0280808/001 20000.0\\t'\n",
      "             'Approved (Pre Auth)\\n'\n",
      "             '\\n'\n",
      "             '01/09/2020 03:48\\t\\tCLMG/2021/171100/0280808/002 8704.0\\t'\n",
      "             'Approved (Enhancement)\\n'\n",
      "             '\\n'\n",
      "             '\\tIRDA Regn.No.129\\n'\n",
      "             'Corporate Identity Number U66010TN 2005PLC056649\\n'\n",
      "             'Email ID : info@starhealth.in',\n",
      " 'order_date': '',\n",
      " 'payment_display_name': '***0401',\n",
      " 'payment_terms': '',\n",
      " 'payment_type': '',\n",
      " 'phone_number': '',\n",
      " 'purchase_order_number': '',\n",
      " 'rounding': 0.0,\n",
      " 'service_end_date': '',\n",
      " 'service_start_date': '2020-07-29',\n",
      " 'ship_date': '',\n",
      " 'ship_to_address': '',\n",
      " 'ship_to_name': '',\n",
      " 'shipping': 0.0,\n",
      " 'store_number': '',\n",
      " 'subtotal': 0.0,\n",
      " 'tax': 0,\n",
      " 'tax_lines': [],\n",
      " 'tip': 0.0,\n",
      " 'total': 20000.0,\n",
      " 'total_weight': '',\n",
      " 'tracking_number': '',\n",
      " 'updated': '2021-07-06 17:28:53',\n",
      " 'vat_number': '',\n",
      " 'vendor': {'address': 'SRI BALAJI COMPLEX,15,WHITES ROAD,CHENNAI 600014',\n",
      "            'category': 'Health',\n",
      "            'email': '',\n",
      "            'fax_number': '',\n",
      "            'name': 'Star Health And Allied Insurance Co.',\n",
      "            'phone_number': '',\n",
      "            'raw_name': 'STAR HEALTH AND ALLIED INSURANCE CO.',\n",
      "            'vendor_logo': 'https://cdn.veryfi.com/logos/tmp/574780456.png',\n",
      "            'vendor_reg_number': '',\n",
      "            'vendor_type': 'Health',\n",
      "            'web': ''},\n",
      " 'vendor_account_number': '',\n",
      " 'vendor_bank_name': '',\n",
      " 'vendor_bank_number': '',\n",
      " 'vendor_bank_swift': '',\n",
      " 'vendor_iban': ''}\n"
     ]
    }
   ],
   "source": [
    "pprint.pprint(json_result)"
   ]
  },
  {
   "cell_type": "code",
   "execution_count": 8,
   "id": "89501417",
   "metadata": {},
   "outputs": [
    {
     "name": "stdout",
     "output_type": "stream",
     "text": [
      "KARUNA HOSPITALS\n",
      "2020-09-01 03:48:00\n",
      "2021/171100/0277003\n"
     ]
    }
   ],
   "source": [
    "print(json_result[\"bill_to_name\"])\n",
    "print(json_result[\"date\"])\n",
    "print(json_result[\"invoice_number\"])"
   ]
  },
  {
   "cell_type": "code",
   "execution_count": 9,
   "id": "49231e0b",
   "metadata": {},
   "outputs": [
    {
     "name": "stdout",
     "output_type": "stream",
     "text": [
      "Total tables extracted: 3\n"
     ]
    }
   ],
   "source": [
    "# extract all the tables in the PDF file\n",
    "tables = camelot.read_pdf('doc_subset.pdf')\n",
    "# number of tables extracted\n",
    "print(\"Total tables extracted:\", tables.n)"
   ]
  },
  {
   "cell_type": "code",
   "execution_count": 10,
   "id": "95333865",
   "metadata": {},
   "outputs": [
    {
     "data": {
      "text/html": [
       "<div>\n",
       "<style scoped>\n",
       "    .dataframe tbody tr th:only-of-type {\n",
       "        vertical-align: middle;\n",
       "    }\n",
       "\n",
       "    .dataframe tbody tr th {\n",
       "        vertical-align: top;\n",
       "    }\n",
       "\n",
       "    .dataframe thead th {\n",
       "        text-align: right;\n",
       "    }\n",
       "</style>\n",
       "<table border=\"1\" class=\"dataframe\">\n",
       "  <thead>\n",
       "    <tr style=\"text-align: right;\">\n",
       "      <th></th>\n",
       "      <th>0</th>\n",
       "      <th>1</th>\n",
       "    </tr>\n",
       "  </thead>\n",
       "  <tbody>\n",
       "    <tr>\n",
       "      <th>0</th>\n",
       "      <td>Patient Name\\n : HARSHAD DOSHI</td>\n",
       "      <td>Age  :\\n70YEARS\\nGender : Male</td>\n",
       "    </tr>\n",
       "    <tr>\n",
       "      <th>1</th>\n",
       "      <td></td>\n",
       "      <td>Expected Date of Admission\\n: 29/08/2020</td>\n",
       "    </tr>\n",
       "    <tr>\n",
       "      <th>2</th>\n",
       "      <td>Policy Number\\n : P/171100/01/2021/006902</td>\n",
       "      <td>Expected Date of Discharge\\n: 01/09/2020</td>\n",
       "    </tr>\n",
       "    <tr>\n",
       "      <th>3</th>\n",
       "      <td>Policy Period\\n : 29-JUL-2020 - 28-JUL-2021</td>\n",
       "      <td>Estimated length of stay\\n:</td>\n",
       "    </tr>\n",
       "    <tr>\n",
       "      <th>4</th>\n",
       "      <td>Room\\n : SHARING/SEMI PRIVATE ROOM\\nCategory\\n...</td>\n",
       "      <td></td>\n",
       "    </tr>\n",
       "  </tbody>\n",
       "</table>\n",
       "</div>"
      ],
      "text/plain": [
       "                                                   0  \\\n",
       "0                     Patient Name\\n : HARSHAD DOSHI   \n",
       "1                                                      \n",
       "2          Policy Number\\n : P/171100/01/2021/006902   \n",
       "3        Policy Period\\n : 29-JUL-2020 - 28-JUL-2021   \n",
       "4  Room\\n : SHARING/SEMI PRIVATE ROOM\\nCategory\\n...   \n",
       "\n",
       "                                          1  \n",
       "0            Age  :\\n70YEARS\\nGender : Male  \n",
       "1  Expected Date of Admission\\n: 29/08/2020  \n",
       "2  Expected Date of Discharge\\n: 01/09/2020  \n",
       "3               Estimated length of stay\\n:  \n",
       "4                                            "
      ]
     },
     "execution_count": 10,
     "metadata": {},
     "output_type": "execute_result"
    }
   ],
   "source": [
    "table1=tables[1].df\n",
    "table1"
   ]
  },
  {
   "cell_type": "code",
   "execution_count": 11,
   "id": "99fc881a",
   "metadata": {},
   "outputs": [
    {
     "data": {
      "text/html": [
       "<div>\n",
       "<style scoped>\n",
       "    .dataframe tbody tr th:only-of-type {\n",
       "        vertical-align: middle;\n",
       "    }\n",
       "\n",
       "    .dataframe tbody tr th {\n",
       "        vertical-align: top;\n",
       "    }\n",
       "\n",
       "    .dataframe thead th {\n",
       "        text-align: right;\n",
       "    }\n",
       "</style>\n",
       "<table border=\"1\" class=\"dataframe\">\n",
       "  <thead>\n",
       "    <tr style=\"text-align: right;\">\n",
       "      <th></th>\n",
       "      <th>c1</th>\n",
       "      <th>c2</th>\n",
       "      <th>c3</th>\n",
       "      <th>c4</th>\n",
       "    </tr>\n",
       "  </thead>\n",
       "  <tbody>\n",
       "    <tr>\n",
       "      <th>0</th>\n",
       "      <td>Patient Name\\n</td>\n",
       "      <td>HARSHAD DOSHI</td>\n",
       "      <td>Age</td>\n",
       "      <td>\\n70YEARS\\nGender</td>\n",
       "    </tr>\n",
       "    <tr>\n",
       "      <th>1</th>\n",
       "      <td></td>\n",
       "      <td>None</td>\n",
       "      <td>Expected Date of Admission\\n</td>\n",
       "      <td>29/08/2020</td>\n",
       "    </tr>\n",
       "    <tr>\n",
       "      <th>2</th>\n",
       "      <td>Policy Number\\n</td>\n",
       "      <td>P/171100/01/2021/006902</td>\n",
       "      <td>Expected Date of Discharge\\n</td>\n",
       "      <td>01/09/2020</td>\n",
       "    </tr>\n",
       "    <tr>\n",
       "      <th>3</th>\n",
       "      <td>Policy Period\\n</td>\n",
       "      <td>29-JUL-2020 - 28-JUL-2021</td>\n",
       "      <td>Estimated length of stay\\n</td>\n",
       "      <td></td>\n",
       "    </tr>\n",
       "    <tr>\n",
       "      <th>4</th>\n",
       "      <td>Room\\n</td>\n",
       "      <td>SHARING/SEMI PRIVATE ROOM\\nCategory\\nA/C\\nEli...</td>\n",
       "      <td></td>\n",
       "      <td>None</td>\n",
       "    </tr>\n",
       "  </tbody>\n",
       "</table>\n",
       "</div>"
      ],
      "text/plain": [
       "                 c1                                                 c2  \\\n",
       "0   Patient Name\\n                                       HARSHAD DOSHI   \n",
       "1                                                                 None   \n",
       "2  Policy Number\\n                             P/171100/01/2021/006902   \n",
       "3  Policy Period\\n                           29-JUL-2020 - 28-JUL-2021   \n",
       "4           Room\\n    SHARING/SEMI PRIVATE ROOM\\nCategory\\nA/C\\nEli...   \n",
       "\n",
       "                             c3                  c4  \n",
       "0                         Age    \\n70YEARS\\nGender   \n",
       "1  Expected Date of Admission\\n          29/08/2020  \n",
       "2  Expected Date of Discharge\\n          01/09/2020  \n",
       "3    Estimated length of stay\\n                      \n",
       "4                                              None  "
      ]
     },
     "execution_count": 11,
     "metadata": {},
     "output_type": "execute_result"
    }
   ],
   "source": [
    "table1[['c1','c2','none']]=table1[0].str.split(\":\",expand=True)\n",
    "table1[['c3','c4','None']]=table1[1].str.split(\":\",expand=True)\n",
    "x=table1.drop([0,1,\"none\",\"None\"],axis=1)\n",
    "x"
   ]
  },
  {
   "cell_type": "code",
   "execution_count": 12,
   "id": "6890f63f",
   "metadata": {},
   "outputs": [],
   "source": [
    "name=x.loc[0,\"c2\"]\n",
    "date_of_adm=x.loc[1,\"c4\"]\n",
    "date_of_dis=x.loc[2,\"c4\"]"
   ]
  },
  {
   "cell_type": "code",
   "execution_count": 13,
   "id": "1200bc0e",
   "metadata": {},
   "outputs": [],
   "source": [
    "output=pd.Series({\"Hospital name\":json_result[\"bill_to_name\"],\n",
    "                     \"Patient name\":name,\n",
    "                     \"Bill number\":json_result[\"invoice_number\"],\n",
    "                     \"Bill date\":json_result[\"date\"],\n",
    "                     \"Admission Date\":date_of_adm,\n",
    "                     \"Discharge Date\":date_of_dis})"
   ]
  },
  {
   "cell_type": "code",
   "execution_count": 14,
   "id": "1aced0bb",
   "metadata": {},
   "outputs": [
    {
     "data": {
      "text/plain": [
       "Hospital name        KARUNA HOSPITALS\n",
       "Patient name            HARSHAD DOSHI\n",
       "Bill number       2021/171100/0277003\n",
       "Bill date         2020-09-01 03:48:00\n",
       "Admission Date             29/08/2020\n",
       "Discharge Date             01/09/2020\n",
       "dtype: object"
      ]
     },
     "execution_count": 14,
     "metadata": {},
     "output_type": "execute_result"
    }
   ],
   "source": [
    "output"
   ]
  },
  {
   "cell_type": "code",
   "execution_count": 15,
   "id": "96f09459",
   "metadata": {},
   "outputs": [],
   "source": [
    "output.to_csv(\"output.csv\",header=False)"
   ]
  },
  {
   "cell_type": "code",
   "execution_count": null,
   "id": "10691646",
   "metadata": {},
   "outputs": [],
   "source": []
  }
 ],
 "metadata": {
  "kernelspec": {
   "display_name": "Python 3",
   "language": "python",
   "name": "python3"
  },
  "language_info": {
   "codemirror_mode": {
    "name": "ipython",
    "version": 3
   },
   "file_extension": ".py",
   "mimetype": "text/x-python",
   "name": "python",
   "nbconvert_exporter": "python",
   "pygments_lexer": "ipython3",
   "version": "3.8.8"
  }
 },
 "nbformat": 4,
 "nbformat_minor": 5
}
